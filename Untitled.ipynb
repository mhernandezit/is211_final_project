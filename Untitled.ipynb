{
 "cells": [
  {
   "cell_type": "code",
   "execution_count": 9,
   "metadata": {},
   "outputs": [],
   "source": [
    "import sqlite3 as lite\n",
    "import requests\n",
    "import os\n",
    "from requests.auth import HTTPDigestAuth\n",
    "import json\n",
    "import pandas as pd\n",
    "from flask import g, session, flash, request, redirect, render_template, Flask\n",
    "\n",
    "engine = lite.connect('vuln.db')\n",
    "# g.db.row_factory = lite.Row\n",
    "def get_db():\n",
    "    if 'db' not in g:\n",
    "        g.db = lite.connect('vuln.db')\n",
    "        g.db.row_factory = lite.Row\n",
    "    return g.db"
   ]
  },
  {
   "cell_type": "code",
   "execution_count": 15,
   "metadata": {},
   "outputs": [],
   "source": [
    "def get_vendors():\n",
    "    \"\"\" Runs an API call to the CVE online database to get a list of the \n",
    "    active vendors \"\"\"\n",
    "\n",
    "    url = \"https://cve.circl.lu/api/browse\"\n",
    "\n",
    "    myResponse = requests.get(url, verify=True)\n",
    "    if(myResponse.ok):\n",
    "        \n",
    "        vendors_df = pd.read_json(myResponse.content)\n",
    "        vendor_df = vendors_df.drop('product', axis=1)\n",
    "        vendor_df.rename(columns={'vendor':'name'}, inplace=True)\n",
    "        vendor_data = df_dedupe(vendor_df, 'vendors', engine, dup_cols=['name'])\n",
    "        vendor_data.to_sql('vendors', engine, if_exists='append', index=False)\n",
    "        return vendor_data.to_dict()\n",
    "    else:\n",
    "        myResponse.raise_for_status()"
   ]
  },
  {
   "cell_type": "code",
   "execution_count": 16,
   "metadata": {},
   "outputs": [],
   "source": [
    "\n",
    "def df_dedupe(df, tablename, engine, dup_cols=[]):\n",
    "    \"\"\"\n",
    "    Remove rows from a dataframe that already exist in a database\n",
    "    Required:\n",
    "        df : dataframe to remove duplicate rows from\n",
    "        engine: SQLAlchemy engine object\n",
    "        tablename: tablename to check duplicates in\n",
    "        dup_cols: list or tuple of column names to check for duplicate row values\n",
    "    Returns\n",
    "        Unique list of values from dataframe compared to database table\n",
    "    \"\"\"\n",
    "    args = 'SELECT %s FROM %s' %(', '.join(['\"{0}\"'.format(col) for col in dup_cols]), tablename)\n",
    "    df = pd.merge(df, pd.read_sql(args, engine), how='left', on=dup_cols, indicator=True)\n",
    "    df = df[df['_merge'] == 'left_only']\n",
    "    df.drop(['_merge'], axis=1, inplace=True)\n",
    "    return df"
   ]
  },
  {
   "cell_type": "code",
   "execution_count": 14,
   "metadata": {},
   "outputs": [
    {
     "data": {
      "text/plain": [
       "{'name': {}}"
      ]
     },
     "execution_count": 14,
     "metadata": {},
     "output_type": "execute_result"
    }
   ],
   "source": [
    "get_vendors()"
   ]
  },
  {
   "cell_type": "code",
   "execution_count": 18,
   "metadata": {},
   "outputs": [],
   "source": [
    "device = 'windows'\n",
    "sql_args = \"\"\" select deviceid from devices where product == ? \"\"\"\n",
    "device_id = engine.execute(sql_args, (device,)).fetchone()"
   ]
  },
  {
   "cell_type": "code",
   "execution_count": 20,
   "metadata": {},
   "outputs": [
    {
     "data": {
      "text/plain": [
       "291"
      ]
     },
     "execution_count": 20,
     "metadata": {},
     "output_type": "execute_result"
    }
   ],
   "source": [
    "device_id[0]"
   ]
  },
  {
   "cell_type": "code",
   "execution_count": null,
   "metadata": {},
   "outputs": [],
   "source": []
  }
 ],
 "metadata": {
  "kernelspec": {
   "display_name": "Python 3",
   "language": "python",
   "name": "python3"
  },
  "language_info": {
   "codemirror_mode": {
    "name": "ipython",
    "version": 3
   },
   "file_extension": ".py",
   "mimetype": "text/x-python",
   "name": "python",
   "nbconvert_exporter": "python",
   "pygments_lexer": "ipython3",
   "version": "3.7.1"
  }
 },
 "nbformat": 4,
 "nbformat_minor": 2
}
